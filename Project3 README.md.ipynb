{
 "cells": [
  {
   "cell_type": "markdown",
   "id": "b3bb4155",
   "metadata": {},
   "source": [
    "# ProsperLoan Data Exploration\n",
    "##  by Melvin Ohabuike"
   ]
  },
  {
   "cell_type": "markdown",
   "id": "54619d9b",
   "metadata": {},
   "source": [
    "Introduction\n",
    "\n",
    "> Prosperloan dataset is one of the four options provided in the Udacity classroom.\n",
    "\n",
    "- There are 113,937 entries of prosper loan in the dataset with 81 features. Most variables are numeric in nature, but the\n",
    "\n",
    "  variables CurrentlyInGroup, IsBorrowerHomeowner, and IncomeVerifiable are bool variables.\n",
    "  \n",
    "\n",
    "- The dataset seem clean and easy to work with.The only wrangling i did was to adjust the datatypes to their appropriates like\n",
    "\n",
    "  the datetimes and category before i went ahead with my exploration."
   ]
  },
  {
   "cell_type": "markdown",
   "id": "bf8081c4",
   "metadata": {},
   "source": [
    "## Summary of Findings"
   ]
  },
  {
   "cell_type": "markdown",
   "id": "0e8aa992",
   "metadata": {},
   "source": [
    "This ProsperLoan dataset has the data created in the year 2005 up to 2014. So my findinds are as follows:\n",
    "\n",
    "- The term of loan is between 1year to 5years.\n",
    "\n",
    "- Most borrowers' occupations (excluding the others group) are: Professional, Computer Engineer and Executive\n",
    "\n",
    "- Most loan takers are employed\n",
    "\n",
    "- Most borrowers have verified income, which may be a condition for obtaining a loan.\n",
    "\n",
    "- EmploymentStatus and StatedMonthlyIncome affect features like BorrowerAPR and ProsperScore\n",
    "\n",
    "- Unemployed receive low score and high interest rate compared to the employed\n",
    "\n",
    "- Employed people can get larger loan amounts compared to all other categories\n",
    "\n",
    "\n",
    "\n"
   ]
  },
  {
   "cell_type": "markdown",
   "id": "e0444d58",
   "metadata": {},
   "source": [
    "## Key Insights for Presentation"
   ]
  },
  {
   "cell_type": "markdown",
   "id": "38472483",
   "metadata": {},
   "source": [
    "> My choice of insights was basically to know if being employed plays a role on loan pay off. So i delved more into Employment status, Stated Monthly Amount, Loan Original Amount and Loan status."
   ]
  },
  {
   "cell_type": "code",
   "execution_count": null,
   "id": "2e41bbf8",
   "metadata": {},
   "outputs": [],
   "source": []
  }
 ],
 "metadata": {
  "kernelspec": {
   "display_name": "Python 3 (ipykernel)",
   "language": "python",
   "name": "python3"
  },
  "language_info": {
   "codemirror_mode": {
    "name": "ipython",
    "version": 3
   },
   "file_extension": ".py",
   "mimetype": "text/x-python",
   "name": "python",
   "nbconvert_exporter": "python",
   "pygments_lexer": "ipython3",
   "version": "3.9.12"
  }
 },
 "nbformat": 4,
 "nbformat_minor": 5
}
